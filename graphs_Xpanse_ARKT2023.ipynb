{
  "nbformat": 4,
  "nbformat_minor": 0,
  "metadata": {
    "colab": {
      "provenance": []
    },
    "kernelspec": {
      "name": "python3",
      "display_name": "Python 3"
    },
    "language_info": {
      "name": "python"
    }
  },
  "cells": [
    {
      "cell_type": "code",
      "execution_count": 4,
      "metadata": {
        "id": "IusHu3NESg0m"
      },
      "outputs": [],
      "source": [
        "import numpy as np\n",
        "import math\n",
        "import random\n",
        "import matplotlib.pyplot as plt\n",
        "from mpl_toolkits.mplot3d import Axes3D\n",
        "plt.style.use(\"dark_background\")\n",
        "#plt.style.use(\"seaborn-v0_8\")\n",
        "#plt.style.use(\"ggplot\")\n",
        "#\n",
        "#\n",
        "#"
      ]
    },
    {
      "cell_type": "code",
      "source": [
        "import matplotlib.pyplot as plt\n",
        "\n",
        "\n",
        "math = [6.730623e+01, 4.785211e+01, 4.523712e+00,\n",
        "        -9.892383e+00, -3.871434e+00, 3.384577e+00,\n",
        "        4.791610e+00, 3.237464e+00, 2.114657e+00,\n",
        "        2.081660e+00, 2.421390e+00, 2.579431e+00,\n",
        "        2.582884e+00, 2.546048e+00, 2.537373e+00,\n",
        "        2.543181e+00, 2.543277e+00, 2.540728e+00,\n",
        "        2.540632e+00, 2.543698e+00, 2.546611e+00,\n",
        "        2.547068e+00, 2.544907e+00, 2.541712e+00,\n",
        "        2.537569e+00, 2.534288e+00, 2.530899e+00,\n",
        "        2.527262e+00, 2.522322e+00, 2.516287e+00,\n",
        "        2.508607e+00, 2.500035e+00, 2.490552e+00,\n",
        "        2.481702e+00, 2.472384e+00, 2.463941e+00,\n",
        "        2.456173e+00, 2.449909e+00, 2.443251e+00,\n",
        "        2.438481e+00, 2.434270e+00, 2.431676e+00,\n",
        "        2.428282e+00, 2.426627e+00, 2.425176e+00,\n",
        "        2.425373e+00, 2.423951e+00, 2.424121e+00]\n",
        "\n",
        "iterations = list(range(1, len(math)+1))\n",
        "\n",
        "plt.plot(iterations, math, marker='o',linestyle = '-', color='brown')\n",
        "plt.title('Зависимость коэффициента сопротивления от итерации', fontsize = 15)\n",
        "plt.xlabel('Итерация')\n",
        "plt.ylabel('Коэффициент сопротивления')\n",
        "plt.grid(True)\n",
        "plt.show()"
      ],
      "metadata": {
        "id": "yVBVQ3AiSgHy"
      },
      "execution_count": null,
      "outputs": []
    },
    {
      "cell_type": "code",
      "source": [
        "import matplotlib.pyplot as plt\n",
        "\n",
        "rocket_money = [(14432 + (12000 * 0.1))*i for i in range(1, 11)]\n",
        "nonrocket = [53506 + ((11000 * 0.1)) * i for i in range(1,11)]\n",
        "plt.plot(range(10), rocket_money, marker='o', label='Обычная ракета', linestyle = ':',color='brown')\n",
        "plt.plot(range(10), nonrocket, marker='o', label='Наш аппарат',linestyle = '-', color='seagreen')\n",
        "plt.xlabel('№ Полета')\n",
        "plt.ylabel('Стоимость')\n",
        "plt.title('Общая стоимость нескольких полетов',  fontsize = 15)\n",
        "plt.legend()\n",
        "\n",
        "plt.grid(True)\n",
        "plt.show()\n"
      ],
      "metadata": {
        "id": "3T_ngSGw3S23"
      },
      "execution_count": null,
      "outputs": []
    },
    {
      "cell_type": "code",
      "source": [
        "fig, ax = plt.subplots()\n",
        "math = [0,1,2,3,5,6,7,15,18,19,19.98, 20]\n",
        "math_y = [0.0, 7.784866801210898, 15.558836866044778, 23.236130742231715, 38.41877809138872, 44.82555724367887, 51.472869934288425, 108.15217701946989, 91.30329432176325, 111.67023314882184, 97.4277626855748, 112.36400139993648]\n",
        "ksp_y = [0, 8.7, 12.5, 16.3, 25.2, 33.2, 40.5, 88.7, 104.8, 113.9,114.4, 120]\n",
        "\n",
        "plt.plot(math, ksp_y, marker='o', label='KSP', linestyle = ':',color='brown')\n",
        "plt.plot(math, math_y, marker='o', label='Наша модель',linestyle = '-', color='seagreen')\n",
        "ax.set_title('Изменение скорости (Разгон)', fontsize = 20)\n",
        "\n",
        "plt.xlabel('Время (с)')\n",
        "plt.ylabel('Скорость (м/c)')\n",
        "plt.legend()\n",
        "\n",
        "plt.grid(True)\n",
        "plt.show()\n"
      ],
      "metadata": {
        "id": "nRSz6o2OSoBP"
      },
      "execution_count": null,
      "outputs": []
    },
    {
      "cell_type": "code",
      "source": [
        "fig, ax = plt.subplots()\n",
        "math = [0,10,15,20,30,50,60, 70,90, 120, 150, 160]\n",
        "math_y = [112.36400139993648, 206.08430692011112, 244.54424371721763, 287.4897248652951, 323.90380897865356, 435.2815255297696, 315.97284848882134, 413.5204957978609, 144.82906204262434, 449.53905676528905, 1029.3760601514193, 1487.8334719834063]\n",
        "ksp_y = [120, 150, 181, 208, 261, 367, 410, 476, 744, 1169, 1441, 1457  ]\n",
        "\n",
        "plt.plot(math, ksp_y, marker='o', label='KSP', linestyle = ':',color='brown')\n",
        "plt.plot(math, math_y, marker='o', label='Наша модель',linestyle = '-', color='seagreen')\n",
        "ax.set_title('Изменение скорости (Взлет)', fontsize = 20)\n",
        "\n",
        "plt.xlabel('Время (с)')\n",
        "plt.ylabel('Скорость (м/c)')\n",
        "plt.legend()\n",
        "\n",
        "plt.grid(True)\n",
        "plt.show()\n"
      ],
      "metadata": {
        "id": "Ukuc6M9C_VUT"
      },
      "execution_count": null,
      "outputs": []
    },
    {
      "cell_type": "code",
      "source": [
        "fig, ax = plt.subplots()\n",
        "math = [0, 10, 15, 20, 25, 30]\n",
        "math_y = [1487.8334719834063, 1272.178264134257, 1315.4755599714076, 1523.3044320748152, 1694.593298022966, 1696.438356142683]\n",
        "\n",
        "plt.plot(math, math_y, marker='o', label='Наша модель',linestyle = '-', color='seagreen')\n",
        "ax.set_title('Изменение аэродинамического сопротивления (Вертикальный взлет)', fontsize = 15)\n",
        "\n",
        "plt.xlabel('Время (с)')\n",
        "plt.ylabel('Значение')\n",
        "plt.legend()\n",
        "\n",
        "plt.grid(True)\n",
        "plt.show()\n"
      ],
      "metadata": {
        "id": "bJtED_Ez-Xd_"
      },
      "execution_count": null,
      "outputs": []
    },
    {
      "cell_type": "code",
      "source": [
        "fig, ax = plt.subplots()\n",
        "math = [0, 10, 15, 20, 25, 30]\n",
        "math_y = [-39.59989334977869, -21.56552078491492, -11.490527467466576, 1.773548004570439, 8.27039304158239, 6.953496138642553]\n",
        "\n",
        "plt.plot(math, math_y, marker='o', label='Наша модель',linestyle = '-', color='green')\n",
        "ax.set_title('Ускорение (Вертикальный взлет)', fontsize = 20)\n",
        "\n",
        "plt.xlabel('Время (с)')\n",
        "plt.ylabel('Ускорение (м/с^2)')\n",
        "plt.legend()\n",
        "\n",
        "plt.grid(True)\n",
        "plt.show()\n"
      ],
      "metadata": {
        "id": "reFCs_ntDhyL"
      },
      "execution_count": null,
      "outputs": []
    },
    {
      "cell_type": "code",
      "source": [
        "fig, ax = plt.subplots()\n",
        "math = [0,10,15,20,30,50,60, 70,90, 120, 150, 160]\n",
        "math_y = [9.36631822132749, 9.372030552017463, 8.81201615448541, 8.75628617326793, 7.051326919290569, 6.458350482596663, 3.3934807848147472, 4.302235634256063, 0.36072289602986507, 2.8097921280446045, 6.1134137250098854, 8.596684191146686]\n",
        "\n",
        "plt.plot(math, math_y, marker='o', label='Наша модель',linestyle = '-', color='green')\n",
        "ax.set_title('Ускорение (Взлет)', fontsize = 20)\n",
        "\n",
        "plt.xlabel('Время (с)')\n",
        "plt.ylabel('Ускорение (м/с^2)')\n",
        "plt.legend()\n",
        "\n",
        "plt.grid(True)\n",
        "plt.show()\n"
      ],
      "metadata": {
        "id": "RZhBF-ghEp1g"
      },
      "execution_count": null,
      "outputs": []
    },
    {
      "cell_type": "code",
      "source": [
        "fig, ax = plt.subplots()\n",
        "math = [0,10,15,20,30,50,60, 70,90, 120, 150, 160]\n",
        "math_y = [128938.99599, 128938.99599, 143059.248706416, 144583.59417012, 187219.42217748, 202099.9374184, 278508.2313384, 255947.3454133764, 354029.61598672357, 293169.4547757696, 211159.09576629, 149612.21501373]\n",
        "\n",
        "plt.plot(math, math_y, marker='o', label='Наша модель',linestyle = '-', color='green')\n",
        "ax.set_title('Изменение аэродинамического сопротивления (Взлет)', fontsize = 15)\n",
        "\n",
        "plt.xlabel('Время (с)')\n",
        "plt.ylabel('Значение')\n",
        "plt.legend()\n",
        "\n",
        "plt.grid(True)\n",
        "plt.show()\n"
      ],
      "metadata": {
        "id": "efwlAxsQFN-T"
      },
      "execution_count": null,
      "outputs": []
    },
    {
      "cell_type": "code",
      "source": [
        "fig, ax = plt.subplots()\n",
        "math = [0,1,2,3,5,6,7,15,18,19,19.87, 20]\n",
        "math_y = [0.0, 1440.323242093917, 5753.2315173957595, 12831.7301928584, 35078.79710489113, 47753.9159524733, 62967.197367007895, 277989.33087018615, 198120.99101593328, 296368.7730302677, 225591.6681272211, 300062.68384336913]\n",
        "plt.plot(math, math_y, marker='o', label='Наша модель',linestyle = '-', color='seagreen')\n",
        "ax.set_title('Изменение подъемной силы ( Разгон )', fontsize = 15)\n",
        "\n",
        "plt.xlabel('Время (с)')\n",
        "plt.ylabel('Подъемная сила (Н)')\n",
        "plt.legend()\n",
        "\n",
        "plt.grid(True)\n",
        "plt.show()\n"
      ],
      "metadata": {
        "id": "zCH-HOKTFsfK"
      },
      "execution_count": null,
      "outputs": []
    },
    {
      "cell_type": "code",
      "source": [
        "fig, ax = plt.subplots()\n",
        "math = [0,1,2,3,5,6,7,15,18,19,19.87, 20]\n",
        "math_y = [0.0, 0.0, 354.6795983656271, 1416.7332611587058, 3159.813559991381, 8638.15378707944, 11759.401803296549, 15505.672351625693, 68454.87272678336, 48787.29403767358, 72980.81035870341, 55551.94827632821]\n",
        "\n",
        "plt.plot(math, math_y, marker='o', label='Наша модель',linestyle = '-', color='seagreen')\n",
        "ax.set_title('Изменение аэродинамического сопротивления (Разгон)', fontsize = 15)\n",
        "\n",
        "plt.xlabel('Время (с)')\n",
        "plt.ylabel('Значение')\n",
        "plt.legend()\n",
        "\n",
        "plt.grid(True)\n",
        "plt.show()\n"
      ],
      "metadata": {
        "id": "VK5j2_cPHH1G"
      },
      "execution_count": null,
      "outputs": []
    },
    {
      "cell_type": "code",
      "source": [
        "fig, ax = plt.subplots()\n",
        "math = [0,1,2,3,5,6,7,15,18,19,19.87, 20]\n",
        "math_y = [7.776001210165388, 7.784866801210898, 7.779418433022389, 7.745376914077239, 7.683755618277743, 7.470926207279812, 7.3532671334697755, 7.210145134631326, 5.072405240097958, 5.877380692043254, 4.903259319857816, 5.618200069996824]\n",
        "\n",
        "plt.plot(math, math_y, marker='o', label='Наша модель',linestyle = '-', color='seagreen')\n",
        "\n",
        "ax.set_title('Ускорение (Разгон)', fontsize = 15)\n",
        "plt.xlabel('Время (с)')\n",
        "plt.ylabel('Ускорение (м^2/c)')\n",
        "plt.legend()\n",
        "\n",
        "plt.grid(True)\n",
        "plt.show()\n"
      ],
      "metadata": {
        "id": "Z8kMmwVUIpa_"
      },
      "execution_count": null,
      "outputs": []
    },
    {
      "cell_type": "code",
      "source": [
        "from PIL import Image, ImageDraw\n",
        "\n",
        "def add_grid(image, grid_size, color):\n",
        "    draw = ImageDraw.Draw(image)\n",
        "    for i in range(1, image.width // grid_size):\n",
        "        x = i * grid_size\n",
        "        draw.line([(x, 0), (x, image.height)], fill=color, width=2)\n",
        "    for i in range(1, image.height // grid_size):\n",
        "        y = i * grid_size\n",
        "        draw.line([(0, y), (image.width, y)], fill=color, width=2)\n",
        "image_path = '/content/photo_2023-12-27_18-02-52.jpg'\n",
        "image = Image.open(image_path)\n",
        "add_grid(image, 10, (0,0,0))\n",
        "image.save(\"grid_combined.jpg\")\n"
      ],
      "metadata": {
        "id": "zAft-gc3-n-4"
      },
      "execution_count": 32,
      "outputs": []
    }
  ]
}